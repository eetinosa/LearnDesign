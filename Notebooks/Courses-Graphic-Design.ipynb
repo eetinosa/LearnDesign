{
 "cells": [
  {
   "cell_type": "code",
   "execution_count": 1,
   "metadata": {},
   "outputs": [
    {
     "name": "stdout",
     "output_type": "stream",
     "text": [
      "<class 'bs4.element.ResultSet'>\n",
      "0\n"
     ]
    }
   ],
   "source": [
    "#import libraries\n",
    "import requests\n",
    "import re\n",
    "from bs4 import BeautifulSoup\n",
    "from requests import get\n",
    "url = \"https://hackr.io/tutorials/learn-graphic-design\"\n",
    "response = get(url)\n",
    "#We’ll now create a BeautifulSoup object, or a parse tree. This object takes as its arguments the page.text document from Requests (the content of the server’s response) and then parses it from Python’s built-in html.parser.\n",
    "soup = BeautifulSoup(response.text, 'html.parser')\n",
    "\n",
    "# Pull all text from the tuturial divison that contains course listing\n",
    "courses = soup.find_all('div', class_ =\"tut-list tut-list-new tut-row\")\n",
    "print(type(courses))\n",
    "print(len(courses))"
   ]
  },
  {
   "cell_type": "markdown",
   "metadata": {},
   "source": [
    "Now we’ll select each container, and extract, by turn, each item of interest:\n",
    "\n",
    "- Course title\n",
    "- Votes\n",
    "- Author\n",
    "- Links (Course, Author, Hackr)\n",
    "- Course Features: (Free / Paid) (video / book ) (Beginner / Intermediate / Advanced)\n"
   ]
  },
  {
   "cell_type": "code",
   "execution_count": 2,
   "metadata": {
    "scrolled": true
   },
   "outputs": [
    {
     "name": "stdout",
     "output_type": "stream",
     "text": [
      "Courses : []\n",
      "\n",
      "Votes : []\n",
      "\n",
      "CourseLink : []\n",
      "\n",
      "Author : []\n",
      "\n",
      "AuthorLink : []\n",
      "\n",
      "HackrLink : []\n",
      "\n",
      "CourseLink : []\n",
      "\n",
      "CourseCost : []\n",
      "\n",
      "CourseType : []\n",
      "\n",
      "StudentType : []\n",
      "\n"
     ]
    }
   ],
   "source": [
    "# Lists to store the scraped data in\n",
    "CourseTitles = []\n",
    "Votes = []\n",
    "CourseLink = []\n",
    "AuthorName = []\n",
    "AuthorLink = []\n",
    "HackrLink = []\n",
    "CourseCost = []\n",
    "CourseType = []\n",
    "StudentType = []\n",
    "\n",
    "\n",
    "    \n",
    "for course in courses:\n",
    "    CourseTitle = course.div.find('span', class_ = 'tutorial-title-txt').text.strip()\n",
    "    CourseTitles.append(CourseTitle)\n",
    "\n",
    "\n",
    "    NoOfVote  = course.div.find('span', class_ = 'count').text.strip()\n",
    "    Votes.append(NoOfVote)\n",
    "\n",
    "    Link1 = course.find(\"div\", class_=\"title-links no-margin\").find('a')[\"href\"]\n",
    "    CourseLink.append(Link1)\n",
    "    \n",
    "    Name = course.find(\"a\", class_=\"author no-marginright paddingleft-xs\").text.strip()\n",
    "    AuthorName.append(Name)\n",
    "    \n",
    "    Link2  = course.find(\"div\", class_=\"action author\").find('a')[\"href\"]\n",
    "    AuthorLink.append(Link2)\n",
    "    \n",
    "    Link3 = course.find(\"a\", attrs={'href': re.compile(\"https://hackr.io/tutorial/\")}).get(\"href\") \n",
    "    HackrLink.append(Link3)\n",
    "        \n",
    "    features  = course.find_all('div', class_ = \"tut-label-group marginright-sm\")\n",
    "    for future in features:\n",
    "        x=future.text.split()\n",
    "    feat1 = x[0]\n",
    "    if len(x) > 2:\n",
    "        feat2 = x[1]\n",
    "        feat3 = x[2]\n",
    "    elif x[1] == (\"Beginner\" or \"Advanced\"):\n",
    "        feat2 =None\n",
    "        feat3= x[1]\n",
    "    else:\n",
    "        feat2 = x[1]\n",
    "        feat3 = None\n",
    "    CourseCost.append(feat1)\n",
    "    CourseType.append(feat2)\n",
    "    StudentType.append(feat3)\n",
    "        \n",
    "\n",
    "print (f\"Courses : {CourseTitles}\\n\")\n",
    "print (f\"Votes : {Votes}\\n\")\n",
    "print (f\"CourseLink : {CourseLink}\\n\")\n",
    "print (f\"Author : {AuthorName}\\n\")\n",
    "print (f\"AuthorLink : {AuthorLink}\\n\")\n",
    "print (f\"HackrLink : {HackrLink}\\n\")\n",
    "print (f\"CourseLink : {CourseLink}\\n\")\n",
    "print (f\"CourseCost : {CourseCost}\\n\")\n",
    "print (f\"CourseType : {CourseType}\\n\")\n",
    "print (f\"StudentType : {StudentType}\\n\")\n"
   ]
  },
  {
   "cell_type": "code",
   "execution_count": 3,
   "metadata": {
    "scrolled": false
   },
   "outputs": [
    {
     "name": "stdout",
     "output_type": "stream",
     "text": [
      "<class 'pandas.core.frame.DataFrame'>\n",
      "RangeIndex: 0 entries\n",
      "Data columns (total 9 columns):\n",
      " #   Column        Non-Null Count  Dtype  \n",
      "---  ------        --------------  -----  \n",
      " 0   Course        0 non-null      float64\n",
      " 1   Votes         0 non-null      float64\n",
      " 2   Course Link   0 non-null      float64\n",
      " 3   Author        0 non-null      float64\n",
      " 4   Author Link   0 non-null      float64\n",
      " 5   Hackr Link    0 non-null      float64\n",
      " 6   Course Cost   0 non-null      float64\n",
      " 7   Course Type   0 non-null      float64\n",
      " 8   Student Type  0 non-null      float64\n",
      "dtypes: float64(9)\n",
      "memory usage: 124.0 bytes\n",
      "None\n"
     ]
    },
    {
     "data": {
      "text/html": [
       "<div>\n",
       "<style scoped>\n",
       "    .dataframe tbody tr th:only-of-type {\n",
       "        vertical-align: middle;\n",
       "    }\n",
       "\n",
       "    .dataframe tbody tr th {\n",
       "        vertical-align: top;\n",
       "    }\n",
       "\n",
       "    .dataframe thead th {\n",
       "        text-align: right;\n",
       "    }\n",
       "</style>\n",
       "<table border=\"1\" class=\"dataframe\">\n",
       "  <thead>\n",
       "    <tr style=\"text-align: right;\">\n",
       "      <th></th>\n",
       "      <th>Course</th>\n",
       "      <th>Votes</th>\n",
       "      <th>Course Link</th>\n",
       "      <th>Author</th>\n",
       "      <th>Author Link</th>\n",
       "      <th>Hackr Link</th>\n",
       "      <th>Course Cost</th>\n",
       "      <th>Course Type</th>\n",
       "      <th>Student Type</th>\n",
       "    </tr>\n",
       "  </thead>\n",
       "  <tbody>\n",
       "  </tbody>\n",
       "</table>\n",
       "</div>"
      ],
      "text/plain": [
       "Empty DataFrame\n",
       "Columns: [Course, Votes, Course Link, Author , Author Link, Hackr Link, Course Cost, Course Type, Student Type]\n",
       "Index: []"
      ]
     },
     "execution_count": 3,
     "metadata": {},
     "output_type": "execute_result"
    }
   ],
   "source": [
    "import pandas as pd\n",
    "GraphicDesignCourses = pd.DataFrame({'Course': CourseTitles,\n",
    "'Votes': Votes,\n",
    "\"Course Link\":CourseLink,\n",
    "\"Author \":AuthorName,\n",
    "\"Author Link\":AuthorLink,\n",
    "\"Hackr Link\":HackrLink,\n",
    "\"Course Cost\":CourseCost,\n",
    "\"Course Type\":CourseType,\n",
    "\"Course Cost\":CourseCost,\n",
    "\"Student Type\":StudentType\n",
    "})\n",
    "print(GraphicDesignCourses.info())\n",
    "GraphicDesignCourses"
   ]
  },
  {
   "cell_type": "code",
   "execution_count": 4,
   "metadata": {},
   "outputs": [],
   "source": [
    "GraphicDesignCourses.to_csv('GraphicDesignCourses.csv')"
   ]
  }
 ],
 "metadata": {
  "kernelspec": {
   "display_name": "Python 3",
   "language": "python",
   "name": "python3"
  },
  "language_info": {
   "codemirror_mode": {
    "name": "ipython",
    "version": 3
   },
   "file_extension": ".py",
   "mimetype": "text/x-python",
   "name": "python",
   "nbconvert_exporter": "python",
   "pygments_lexer": "ipython3",
   "version": "3.8.5"
  }
 },
 "nbformat": 4,
 "nbformat_minor": 4
}
